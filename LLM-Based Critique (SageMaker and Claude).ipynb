{
 "cells": [
  {
   "cell_type": "markdown",
   "id": "c4a68ee1-09fb-4d8f-a614-d137c731d243",
   "metadata": {},
   "source": [
    "# Evaluating LLMs with LLMs: FLAN, Mistral-7B, and Claude\n",
    "\n",
    "> *This notebook was tested on the Python 3 kernel of Amazon SageMaker Studio (Distribution v1.6)*\n",
    "\n",
    "Automating the evaluation of LLMs is useful (to accelerate prompt engineering and solution optimization), but difficult (because the models output natural language text).\n",
    "\n",
    "This notebook demonstrates how one \"evaluator\" model (Anthropic Claude on Amazon Bedrock) can be used to automatically score and compare responses from a range of \"candidate\" models (FLAN-T5 XL and Mistral 7B) - on an example news text summarization task."
   ]
  },
  {
   "cell_type": "markdown",
   "id": "ded26b0e",
   "metadata": {},
   "source": [
    "_License information_\n",
    "\n",
    "    Copyright Amazon.com, Inc. or its affiliates. All Rights Reserved.\n",
    "    SPDX-License-Identifier: MIT-0"
   ]
  },
  {
   "cell_type": "markdown",
   "id": "6ea04ab4-09e7-4dee-b725-5e31bb6f04e6",
   "metadata": {},
   "source": [
    "## Prerequisites\n",
    "\n",
    "We'll use the following libraries which are not included on SageMaker Studio JupyterLab kernels by default, so need to be installed:\n",
    "\n",
    "- The [Hugging Face Datasets library](https://huggingface.co/docs/datasets/index), for loading and transforming datasets\n",
    "- [Seaborn](https://seaborn.pydata.org/) for simple data visualizations"
   ]
  },
  {
   "cell_type": "code",
   "execution_count": null,
   "id": "298f4860-c7c4-4575-9590-08a50862f703",
   "metadata": {
    "scrolled": true,
    "tags": []
   },
   "outputs": [],
   "source": [
    "%pip install \"datasets>=2.15,<3\" \"seaborn>=0.13,<0.14\""
   ]
  },
  {
   "cell_type": "markdown",
   "id": "db957f72-35a8-4cd5-b55d-53d8b48d20c0",
   "metadata": {},
   "source": [
    "You'll also need to **enable access to Anthropic Claude v3 (Sonnet)** in Amazon Bedrock:\n",
    "\n",
    "1. Select an [AWS Region where the model is available](https://docs.aws.amazon.com/bedrock/latest/userguide/models-regions.html) (which doesn't have to be the same region as you deployed this notebook). For e.g. `us-west-2`\n",
    "2. [Enable access to the Claude model in that region](https://docs.aws.amazon.com/bedrock/latest/userguide/model-access.html) through the Amazon Bedrock Console.\n",
    "3. Grant [Bedrock IAM permissions to your SageMaker notebook execution role](https://docs.aws.amazon.com/bedrock/latest/userguide/api-setup.html#api-using-sage) to be able to invoke the model from here in the notebook."
   ]
  },
  {
   "cell_type": "markdown",
   "id": "0db41ce3-392d-4f31-92fd-a89cbe5eb800",
   "metadata": {},
   "source": [
    "## Deploy candidate models to Amazon SageMaker Endpoints\n",
    "\n",
    "This notebook will compare outputs from [two candidate LLMs on Amazon SageMaker JumpStart](https://docs.aws.amazon.com/sagemaker/latest/dg/jumpstart-foundation-models-use.html):\n",
    "\n",
    "- FLAN-T5 XL, and\n",
    "- Mistral 7B Instruct\n",
    "\n",
    "> ⚠️ **Note:** Created SageMaker Endpoints are [priced](https://aws.amazon.com/sagemaker/pricing/) by the infrastructure consumed, not the number of requests: So be remember to delete the endpoints you create below, once you're done with testing.\n",
    "\n",
    "### Option 1: Deploy manually through SageMaker Studio UI\n",
    "\n",
    "If you'd like, you can deploy these manually through the SageMaker Studio UI and record your configure endpoint names below:"
   ]
  },
  {
   "cell_type": "code",
   "execution_count": null,
   "id": "bd36946a-d42a-4113-9575-6062a3605fad",
   "metadata": {
    "tags": []
   },
   "outputs": [],
   "source": [
    "t5_ep_name = \"TODO\"  # Enter the name of the SageMaker Endpoint you deployed with Flan-T5\n",
    "mistral_ep_name = \"TODO\"  # Enter the name of the SageMaker Endpoint you deployed with Mistral 7B"
   ]
  },
  {
   "cell_type": "markdown",
   "id": "e1c595ed-d82a-4cf7-9ffd-a5fd58b1ad40",
   "metadata": {},
   "source": [
    "### Option 2: Deploy automatically via SageMaker Python SDK\n",
    "\n",
    "Alternatively for a more automatic setup, you can run the below code cells to deploy these models automatically:"
   ]
  },
  {
   "cell_type": "code",
   "execution_count": 3,
   "id": "53b0ee2d-002f-45a7-83e1-e3189cd631be",
   "metadata": {},
   "outputs": [
    {
     "name": "stdout",
     "output_type": "stream",
     "text": [
      "sagemaker.config INFO - Not applying SDK defaults from location: /etc/xdg/sagemaker/config.yaml\n",
      "sagemaker.config INFO - Not applying SDK defaults from location: /home/sagemaker-user/.config/sagemaker/config.yaml\n"
     ]
    }
   ],
   "source": [
    "from sagemaker.jumpstart.model import JumpStartModel\n",
    "\n",
    "t5_model_id = \"huggingface-text2text-flan-t5-xl\"\n",
    "t5_ep_name = t5_model_id\n",
    "mistral_model_id = \"huggingface-llm-mistral-7b-instruct\"\n",
    "mistral_ep_name = mistral_model_id"
   ]
  },
  {
   "cell_type": "code",
   "execution_count": 4,
   "id": "7400a890-3f1a-44f3-8796-571937a40a53",
   "metadata": {},
   "outputs": [
    {
     "name": "stderr",
     "output_type": "stream",
     "text": [
      "Using model 'huggingface-text2text-flan-t5-xl' with wildcard version identifier '*'. You can pin to version '2.1.0' for more stable results. Note that models may have different input/output signatures after a major version upgrade.\n"
     ]
    },
    {
     "name": "stdout",
     "output_type": "stream",
     "text": [
      "--------!"
     ]
    }
   ],
   "source": [
    "t5_model = JumpStartModel(model_id=t5_model_id)\n",
    "t5_predictor = t5_model.deploy(endpoint_name=t5_ep_name, instance_type=\"ml.g5.4xlarge\")"
   ]
  },
  {
   "cell_type": "code",
   "execution_count": 5,
   "id": "5e3b04df-3c8b-4273-9fab-d18b49cb0953",
   "metadata": {},
   "outputs": [
    {
     "name": "stderr",
     "output_type": "stream",
     "text": [
      "Using model 'huggingface-llm-mistral-7b-instruct' with wildcard version identifier '*'. You can pin to version '3.0.0' for more stable results. Note that models may have different input/output signatures after a major version upgrade.\n"
     ]
    },
    {
     "name": "stdout",
     "output_type": "stream",
     "text": [
      "---------!"
     ]
    }
   ],
   "source": [
    "mistral_model = JumpStartModel(model_id=mistral_model_id)\n",
    "mistral_predictor = mistral_model.deploy(\n",
    "    endpoint_name=mistral_ep_name, instance_type=\"ml.g5.8xlarge\"\n",
    ")"
   ]
  },
  {
   "cell_type": "markdown",
   "id": "8cae7a3d-ce06-4655-a203-8f6e13aa15b7",
   "metadata": {
    "tags": []
   },
   "source": [
    "## Prepare the dataset\n",
    "\n",
    "We'll explore a text summarization use-case using the [cnn_dailymail dataset](https://huggingface.co/datasets/cnn_dailymail), but only process five samples to save time.\n",
    "\n",
    "First, load the dataset and show the available partitions and fields:"
   ]
  },
  {
   "cell_type": "code",
   "execution_count": 6,
   "id": "57890bee-eaee-41a4-bb11-455475df0e6f",
   "metadata": {
    "tags": []
   },
   "outputs": [
    {
     "data": {
      "text/plain": [
       "DatasetDict({\n",
       "    train: Dataset({\n",
       "        features: ['article', 'highlights', 'id'],\n",
       "        num_rows: 287113\n",
       "    })\n",
       "    validation: Dataset({\n",
       "        features: ['article', 'highlights', 'id'],\n",
       "        num_rows: 13368\n",
       "    })\n",
       "    test: Dataset({\n",
       "        features: ['article', 'highlights', 'id'],\n",
       "        num_rows: 11490\n",
       "    })\n",
       "})"
      ]
     },
     "execution_count": 6,
     "metadata": {},
     "output_type": "execute_result"
    }
   ],
   "source": [
    "from datasets import load_dataset\n",
    "\n",
    "dataset = load_dataset(\"cnn_dailymail\", \"3.0.0\")\n",
    "dataset"
   ]
  },
  {
   "cell_type": "markdown",
   "id": "74eda164-026f-45a2-82ad-b2f36e1b019e",
   "metadata": {},
   "source": [
    "This dataset demonstrates summarizing news articles into shorter highlights. Let's take a look at one source article as an example:"
   ]
  },
  {
   "cell_type": "code",
   "execution_count": 7,
   "id": "ba4ce648-d68e-487f-b317-48ca451cee8e",
   "metadata": {
    "tags": []
   },
   "outputs": [
    {
     "name": "stdout",
     "output_type": "stream",
     "text": [
      "LONDON, England (Reuters) -- Harry Potter star Daniel Radcliffe gains access to a reported £20 million ($41.1 million) fortune as he turns 18 on Monday, but he insists the money won't cast a spell on him. Daniel Radcliffe as Harry Potter in \"Harry Potter and the Order of the Phoenix\" To the disappointment of gossip columnists around the world, the young actor says he has no plans to fritter his cash away on fast cars, drink and celebrity parties. \"I don't plan to be one of those people who, as soon as they turn 18, suddenly buy themselves a massive sports car collection or something similar,\" he told an Australian interviewer earlier this month. \"I don't think I'll be particularly extravagant. \"The things I like buying are things that cost about 10 pounds -- books and CDs and DVDs.\" At 18, Radcliffe will be able to gamble in a casino, buy a drink in a pub or see the horror film \"Hostel: Part II,\" currently six places below his number one movie on the UK box office chart. Details of how he'll mark his landmark birthday are under wraps. His agent and publicist had no comment on his plans. \"I'll definitely have some sort of party,\" he said in an interview. \"Hopefully none of you will be reading about it.\" Radcliffe's earnings from the first five Potter films have been held in a trust fund which he has not been able to touch. Despite his growing fame and riches, the actor says he is keeping his feet firmly on the ground. \"People are always looking to say 'kid star goes off the rails,'\" he told reporters last month. \"But I try very hard not to go that way because it would be too easy for them.\" His latest outing as the boy wizard in \"Harry Potter and the Order of the Phoenix\" is breaking records on both sides of the Atlantic and he will reprise the role in the last two films.  Watch I-Reporter give her review of Potter's latest » . There is life beyond Potter, however. The Londoner has filmed a TV movie called \"My Boy Jack,\" about author Rudyard Kipling and his son, due for release later this year. He will also appear in \"December Boys,\" an Australian film about four boys who escape an orphanage. Earlier this year, he made his stage debut playing a tortured teenager in Peter Shaffer's \"Equus.\" Meanwhile, he is braced for even closer media scrutiny now that he's legally an adult: \"I just think I'm going to be more sort of fair game,\" he told Reuters. E-mail to a friend . Copyright 2007 Reuters. All rights reserved.This material may not be published, broadcast, rewritten, or redistributed.\n"
     ]
    }
   ],
   "source": [
    "print(dataset[\"train\"][\"article\"][0])"
   ]
  },
  {
   "cell_type": "markdown",
   "id": "3a5ac077-b45e-441d-93a0-899ca3697e3e",
   "metadata": {},
   "source": [
    "This example dataset also includes target \"ground truth\" summaries for each article, which are **not actually necessary** for the evaluation procedure described below - but we'll calculate and compare metrics on these reference answers too:"
   ]
  },
  {
   "cell_type": "code",
   "execution_count": 8,
   "id": "8bb890e9-5b7b-4602-a39c-c66f58620293",
   "metadata": {
    "tags": []
   },
   "outputs": [
    {
     "name": "stdout",
     "output_type": "stream",
     "text": [
      "Harry Potter star Daniel Radcliffe gets £20M fortune as he turns 18 Monday .\n",
      "Young actor says he has no plans to fritter his cash away .\n",
      "Radcliffe's earnings from first five Potter films have been held in trust fund .\n"
     ]
    }
   ],
   "source": [
    "print(dataset[\"train\"][\"highlights\"][0])"
   ]
  },
  {
   "cell_type": "markdown",
   "id": "cd8c7295-703b-4c3b-949d-8f193647e081",
   "metadata": {},
   "source": [
    "To minimize waiting time and cost, we'll demonstrate the process on just a small, randomly-selected subset of this dataset:"
   ]
  },
  {
   "cell_type": "code",
   "execution_count": 9,
   "id": "1d366892-6b94-432e-8291-9dfa03ed779b",
   "metadata": {
    "tags": []
   },
   "outputs": [
    {
     "data": {
      "text/plain": [
       "array([ 25625, 222212, 187935, 126007, 124324])"
      ]
     },
     "execution_count": 9,
     "metadata": {},
     "output_type": "execute_result"
    }
   ],
   "source": [
    "import numpy as np\n",
    "\n",
    "num_to_eval = 5\n",
    "eval_idxs = np.random.default_rng(42).integers(low=0, high=len(dataset[\"train\"]), size=num_to_eval)\n",
    "eval_idxs"
   ]
  },
  {
   "cell_type": "code",
   "execution_count": 10,
   "id": "d5bda61f-ed8a-4e2c-bd8e-92976095919b",
   "metadata": {
    "tags": []
   },
   "outputs": [
    {
     "name": "stdout",
     "output_type": "stream",
     "text": [
      "5\n"
     ]
    }
   ],
   "source": [
    "docs_to_summarize = [dataset[\"train\"][\"article\"][i] for i in eval_idxs]  # Source docs\n",
    "gt_sums = [dataset[\"train\"][\"highlights\"][i] for i in eval_idxs]  # Target summaries\n",
    "\n",
    "print(len(docs_to_summarize))"
   ]
  },
  {
   "cell_type": "markdown",
   "id": "a741a9f5-051b-41cd-bcd5-75f22e6f046a",
   "metadata": {
    "tags": []
   },
   "source": [
    "## Generate candidate summaries\n",
    "\n",
    "With some sample data loaded, we're ready to try generating some summaries using candidate LLMs for the task.\n",
    "\n",
    "In this case since the LLMs are deployed on Amazon SageMaker, we'll use the [Predictor API](https://sagemaker.readthedocs.io/en/stable/api/inference/index.html) from the [high-level SageMaker Python SDK](https://sagemaker.readthedocs.io/en/stable/) to invoke them:"
   ]
  },
  {
   "cell_type": "markdown",
   "id": "1e23632f-2efa-46d8-b533-4b33027eda62",
   "metadata": {},
   "source": [
    "### FLAN-T5 model\n",
    "\n",
    "First we'll configure the SageMaker endpoint and set up a utility function to use it to summarize some text:\n",
    "\n",
    "> ⚠️ **Note:** If you get an *\"Inference Component Name header is required\"* error from the below code, you'll need to replace `component_name=None`. Find your T5 endpoint from the *Deployments > Endpoints* menu in SageMaker Studio and click through to view the endpoint details. You should see a \"Models\" tab with a list of (probably just one) models deployed on the endpoint. Copy that model name and use it as your `component_name` below. For more about how \"inference components\" enable you to share endpoint infrastructure between multiple models, [see the developer guide](https://docs.amazonaws.cn/en_us/sagemaker/latest/dg/realtime-endpoints-deploy-models.html#deployed-shared-utilization)."
   ]
  },
  {
   "cell_type": "code",
   "execution_count": 11,
   "id": "c2c7d02d-6dce-4379-b9f0-cc0c4a95fe9d",
   "metadata": {
    "tags": []
   },
   "outputs": [],
   "source": [
    "import json\n",
    "import time\n",
    "\n",
    "import sagemaker\n",
    "from sagemaker.serializers import JSONSerializer\n",
    "\n",
    "# Specify the target endpoint:\n",
    "t5_predictor = sagemaker.predictor.Predictor(\n",
    "    t5_ep_name,\n",
    "    serializer=JSONSerializer(),  # This endpoint expects requests in JSON format\n",
    "    component_name=None,\n",
    "    # TODO: If required, replace the above with your inference component e.g:\n",
    "    # component_name=\"huggingface-text2text-flan-t5-xl-20240419-055102\",\n",
    ")\n",
    "\n",
    "\n",
    "def summarize_t5(doc: str) -> str:\n",
    "    \"\"\"Utility function to query the FLAN-T5 SageMaker endpoint\"\"\"\n",
    "    payload = {\n",
    "        \"inputs\": f\"Write a short summary for this text: \\\"{doc}\\\"\",\n",
    "        \"parameters\": {\n",
    "            \"max_length\": 5000,\n",
    "            \"do_sample\": True,\n",
    "            \"top_k\": 10,\n",
    "        },\n",
    "    }\n",
    "    response = json.loads(t5_predictor.predict(payload))\n",
    "    return response[0][\"generated_text\"].strip()"
   ]
  },
  {
   "cell_type": "markdown",
   "id": "eebe3cff-9714-4781-96f4-df1b833e8f3c",
   "metadata": {},
   "source": [
    "Next, we can call this function across the sample dataset to generate the FLAN-T5 summaries:"
   ]
  },
  {
   "cell_type": "code",
   "execution_count": 12,
   "id": "d57eb662-c6ea-45e5-a85d-fbcba94c56ef",
   "metadata": {
    "tags": []
   },
   "outputs": [
    {
     "name": "stdout",
     "output_type": "stream",
     "text": [
      ".....\n",
      "\n",
      "Example summary 0:\n",
      "French police arrest man suspected of being new military chief of Basque separatist group ETA in southern France; ETA military leader's alleged predecessor was arrested last month\n",
      "\n",
      "CPU times: user 38.8 ms, sys: 4.96 ms, total: 43.7 ms\n",
      "Wall time: 19.1 s\n"
     ]
    }
   ],
   "source": [
    "%%time\n",
    "\n",
    "t5_sums = []\n",
    "for doc in docs_to_summarize:\n",
    "    print(\".\", end=\"\")\n",
    "    response = summarize_t5(doc)\n",
    "    t5_sums.append(response)\n",
    "    time.sleep(2)\n",
    "print()\n",
    "\n",
    "print(f\"\\nExample summary 0:\\n{t5_sums[0]}\\n\")"
   ]
  },
  {
   "cell_type": "markdown",
   "id": "ca1ea9f6-eefc-4dbb-a145-b8ceb6d678e6",
   "metadata": {},
   "source": [
    "### Mistral 7B model\n",
    "\n",
    "We can apply the same procedure to the deployed Mistral model to generate another set of candidate summaries:\n",
    "\n",
    "> ⚠️ **Note:** If you get an *\"Inference Component Name header is required\"* error from the below code, you'll need to replace `component_name=None`. Find your Mistral endpoint from the *Deployments > Endpoints* menu in SageMaker Studio and click through to view the endpoint details. You should see a \"Models\" tab with a list of (probably just one) models deployed on the endpoint. Copy that model name and use it as your `component_name` below. For more about how \"inference components\" enable you to share endpoint infrastructure between multiple models, [see the developer guide](https://docs.amazonaws.cn/en_us/sagemaker/latest/dg/realtime-endpoints-deploy-models.html#deployed-shared-utilization)."
   ]
  },
  {
   "cell_type": "code",
   "execution_count": 13,
   "id": "8620e9b0-d3f4-4b36-885d-30087fa99ded",
   "metadata": {},
   "outputs": [],
   "source": [
    "import json\n",
    "import time\n",
    "\n",
    "import sagemaker\n",
    "from sagemaker.serializers import JSONSerializer\n",
    "\n",
    "# Specify the target endpoint:\n",
    "mistral_predictor = sagemaker.predictor.Predictor(\n",
    "    mistral_ep_name,\n",
    "    serializer=JSONSerializer(),  # This endpoint expects requests in JSON format\n",
    "    component_name=None,\n",
    "    # TODO: If required, replace the above with your inference component e.g:\n",
    "    # component_name=\"huggingface-llm-mistral-7b-instruct-20240423-054202\",\n",
    ")\n",
    "\n",
    "\n",
    "def summarize_mistral(doc: str) -> str:\n",
    "    \"\"\"Utility function to query the Mistral SageMaker endpoint\"\"\"\n",
    "    payload = {\n",
    "        \"inputs\": f\"\\\"{doc[:950]}\\\".\\nSummarize the article above:\",\n",
    "        \"parameters\": {\n",
    "            \"max_new_tokens\": 300,\n",
    "            \"return_full_text\": False,\n",
    "        },\n",
    "    }\n",
    "    response = json.loads(mistral_predictor.predict(payload))\n",
    "    return response[0][\"generated_text\"].strip()"
   ]
  },
  {
   "cell_type": "code",
   "execution_count": 14,
   "id": "f7ded2c4-871a-4af5-97ad-10ece36c9bd4",
   "metadata": {
    "tags": []
   },
   "outputs": [
    {
     "name": "stdout",
     "output_type": "stream",
     "text": [
      ".....\n",
      "\n",
      "Example summary 0:\n",
      "French police have arrested the suspected new military chief of the Basque separatist group ETA. Aitzol Iriondo Yarza was detained in the southern French village of Gerde with two other ETA suspects. He allegedly headed the ETA commandos who carried out attacks. The suspected overall leader of ETA, Mikel Garikoitz Aspiazu, was arrested in November in southern France. ETA is responsible for over 800 deaths. A Basque businessman was shot and killed last week in northern Spain in an attack blamed on ETA.\n",
      "\n",
      "CPU times: user 30.9 ms, sys: 9.02 ms, total: 39.9 ms\n",
      "Wall time: 33 s\n"
     ]
    }
   ],
   "source": [
    "%%time\n",
    "\n",
    "mistral_sums = []\n",
    "for doc in docs_to_summarize:\n",
    "    print(\".\", end=\"\")\n",
    "    response = summarize_mistral(doc)\n",
    "    mistral_sums.append(response)\n",
    "    time.sleep(2)\n",
    "print()\n",
    "\n",
    "print(f\"\\nExample summary 0:\\n{mistral_sums[0]}\\n\")"
   ]
  },
  {
   "cell_type": "markdown",
   "id": "aa341ff9-3615-482c-af71-c47b5f8be003",
   "metadata": {},
   "source": [
    "## Evaluate the candidates\n",
    "\n",
    "In this example use-case, *even with* a set of \"ideal reference\" summaries, the task of comparing the text outputs of these two models is non-trivial and potentially subjective.\n",
    "\n",
    "While it might be reasonable to manually review the candidate summaries across this small dataset of 5 articles to choose the \"best\", the effort would quickly become unsustainable for large datasets - or if we wanted to compare a large number of candidate models, prompt templates, inference configurations, and so on.\n",
    "\n",
    "To scale more effectively, we can consider **using another LLM** to evaluate the candidate results automatically.\n",
    "\n",
    "It might first seem like this is \"checking our own homework\" and an unreliable approach, but there are some important reasons it's worth a try:\n",
    "\n",
    "1. For many tasks, *checking* a solution against a reference is a **cognitively easier task** than *generating* the solution: Which can allow models to recognise their shortcomings even when they failed the original task.\n",
    "2. (Especially for high-volume use-cases) it might be **economically feasible** to use a more accurate, more expensive, and perhaps slower LLM for offline evaluation - but deploy with a more lightweight and optimized model.\n",
    "3. **We can (and should) check** how well automated, LLM-evaluated metrics align with a smaller subset of manually-labelled ground truth data on the same examples, to understand how what level of trust can be placed in the automated metrics run on larger datasets.\n",
    "\n",
    "In this example, we'll use [Anthropic Claude on Amazon Bedrock](https://aws.amazon.com/bedrock/claude/) as the evaluator model and ask it to characterise specific score components that could be compared against human ratings if available:"
   ]
  },
  {
   "cell_type": "code",
   "execution_count": 15,
   "id": "8db497fb-96ee-450c-b0af-79398d21ba54",
   "metadata": {
    "tags": []
   },
   "outputs": [
    {
     "name": "stdout",
     "output_type": "stream",
     "text": [
      "Document\n",
      "--------\n",
      "MADRID, Spain (CNN) -- French police arrested the suspected new military chief of the Basque separatist group ETA on Monday, just three weeks after his alleged predecessor was captured, CNN partner station CNN+ reported. Mikel Garikoitz Aspiazu was captured last month. The suspect, Aitzol Iriondo Yarza, allegedly headed the ETA commandos who carried out attacks. He was detained in the southern French village of Gerde with two other ETA suspects, French police said. The suspected overall leader of ETA -- heading both the military and policy-making, or political, wing -- was arrested November 17, also in southern France, Rubalcaba said last month. That man, Mikel Garikoitz Aspiazu, 35, alias \"Txeroki,\" is wanted in connection with numerous ETA fatal attacks, Rubalcaba said. Since then, a Basque businessman was shot and killed last Wednesday in northern Spain, in an attack authorities blamed on ETA. ETA is blamed for more than 800 deaths in its long fight for Basque independence. ETA, listed as a terrorist group by the European Union and the United States, has long used France as a base to prepare for attacks across the border in Spain. There are about 600 ETA convicts or suspects in Spanish jails and 150 in French jails, authorities in the two countries have told CNN.\n",
      "\n",
      "Summary\n",
      "-------\n",
      "French police have arrested the suspected new military chief of the Basque separatist group ETA. Aitzol Iriondo Yarza was detained in the southern French village of Gerde with two other ETA suspects. He allegedly headed the ETA commandos who carried out attacks. The suspected overall leader of ETA, Mikel Garikoitz Aspiazu, was arrested in November in southern France. ETA is responsible for over 800 deaths. A Basque businessman was shot and killed last week in northern Spain in an attack blamed on ETA.\n",
      "\n",
      "Critique\n",
      "--------\n",
      "Evaluation form (scores only):\n",
      "\n",
      "- Coherence: 5\n",
      "- Accuracy: 5\n",
      "- Factuality: 5\n",
      "- Completeness: 4\n"
     ]
    }
   ],
   "source": [
    "from string import Template\n",
    "\n",
    "import boto3  # General-purpose AWS SDK for Python\n",
    "\n",
    "BEDROCK_REGION = boto3.Session().region_name  # Override this with e.g. \"us-east-1\" if you need\n",
    "BEDROCK_MODEL_ID = \"anthropic.claude-3-sonnet-20240229-v1:0\"\n",
    "EVAL_PROMPT_TEMPLATE = Template(\"\"\"You will be given a summmary of a news article. Your task is to\n",
    "evaluate the summary in four dimensions, accuracy, coherence, factuality, and completeness.\n",
    "Provide a score of 1-5 in each dimension, with 5 being the best score.\n",
    "\n",
    "Original document: ${doc}\n",
    "\n",
    "Summary: ${summary}\n",
    "\n",
    "Evaluation form (scores only):\n",
    "\n",
    "- Coherence:\n",
    "- Accuracy:\n",
    "- Factuality:\n",
    "- Completeness:\n",
    "\"\"\")\n",
    "\n",
    "botosess = boto3.Session(region_name=BEDROCK_REGION)\n",
    "bedrock = botosess.client(\"bedrock-runtime\")\n",
    "\n",
    "\n",
    "def critique_summary(doc: str, summary: str) -> str:\n",
    "    \"\"\"Critique an article summary with Anthropic Claude on Amazon Bedrock\"\"\"\n",
    "    prompt = EVAL_PROMPT_TEMPLATE.substitute(doc=doc, summary=summary)\n",
    "    response = bedrock.invoke_model(\n",
    "        modelId=BEDROCK_MODEL_ID,\n",
    "        body=json.dumps({\n",
    "            \"anthropic_version\": \"bedrock-2023-05-31\",\n",
    "            \"max_tokens\": 100,\n",
    "            \"messages\": [\n",
    "                {\n",
    "                    \"role\": \"user\",\n",
    "                    \"content\": [{\"type\": \"text\", \"text\": prompt}],\n",
    "                },\n",
    "            ],\n",
    "            \"temperature\": 0,\n",
    "        }),\n",
    "    )\n",
    "    res_body = json.loads(response[\"body\"].read())\n",
    "    return res_body[\"content\"][0][\"text\"]\n",
    "\n",
    "\n",
    "# Try the function out to check it:\n",
    "print(f\"Document\\n--------\\n{docs_to_summarize[0]}\\n\")\n",
    "print(f\"Summary\\n-------\\n{mistral_sums[0]}\\n\")\n",
    "print(f\"Critique\\n--------\\n{critique_summary(docs_to_summarize[0], mistral_sums[0])}\")"
   ]
  },
  {
   "cell_type": "markdown",
   "id": "ec5df63e-d627-4b34-bf7a-c297fc900442",
   "metadata": {},
   "source": [
    "Since the evaluator model is also an LLM, it also outputs free-form text. As a result we need one more step to parse our expected metric structure out of the model response - but for a high-quality model that's able to follow your instructions reliably, this shouldn't be too problematic:"
   ]
  },
  {
   "cell_type": "code",
   "execution_count": 16,
   "id": "fad40b0b-eaa1-405a-97f2-20ff3cc593d5",
   "metadata": {},
   "outputs": [
    {
     "name": "stdout",
     "output_type": "stream",
     "text": [
      "Example metrics:\n",
      "{'accuracy': 5.0, 'coherence': 5.0, 'factuality': 5.0, 'completeness': 3.0}\n",
      "CPU times: user 5.62 ms, sys: 0 ns, total: 5.62 ms\n",
      "Wall time: 2.49 s\n"
     ]
    }
   ],
   "source": [
    "%%time\n",
    "\n",
    "import re  # Regular Expressions\n",
    "from typing import Dict, List  # Type hints in Python\n",
    "\n",
    "def parse_critique(critique: str) -> Dict[str, float]:\n",
    "    \"\"\"Parse numeric metric values out of a single critique\"\"\"\n",
    "    metrics = {\n",
    "        \"accuracy\": r\"Accuracy: (\\d+)\",\n",
    "        \"coherence\": r\"Coherence: (\\d+)\",\n",
    "        \"factuality\": r\"Factuality: (\\d+)\",\n",
    "        \"completeness\": r\"Completeness: (\\d+)\",\n",
    "    }\n",
    "    result = {}\n",
    "    for name, pattern in metrics.items():\n",
    "        m = re.search(pattern, critique)\n",
    "        if m is None:\n",
    "            value = 0.0\n",
    "        else:\n",
    "            value = float(m.group(1))\n",
    "        result[name] = value\n",
    "    return result\n",
    "\n",
    "\n",
    "def evaluate_summary(doc: str, summary: str) -> Dict[str, float]:\n",
    "    return parse_critique(critique_summary(doc, summary))\n",
    "\n",
    "\n",
    "print(f\"Example metrics:\\n{evaluate_summary(docs_to_summarize[0], t5_sums[0])}\")"
   ]
  },
  {
   "cell_type": "markdown",
   "id": "0143bc82-f583-4e97-ae1c-d04735ed4e63",
   "metadata": {},
   "source": [
    "Let's run these evaluations across all the candidate summary examples:"
   ]
  },
  {
   "cell_type": "code",
   "execution_count": 17,
   "id": "7d630c22-6a21-4d55-b10e-69a3aa54a884",
   "metadata": {},
   "outputs": [
    {
     "name": "stdout",
     "output_type": "stream",
     "text": [
      "Evaluating ground truth summaries...\n",
      "Evaluating FLAN-T5 summaries...\n",
      "Evaluating Mistral summaries...\n",
      "Done\n",
      "CPU times: user 43.7 ms, sys: 6.47 ms, total: 50.1 ms\n",
      "Wall time: 30.5 s\n"
     ]
    }
   ],
   "source": [
    "%%time\n",
    "\n",
    "print(\"Evaluating ground truth summaries...\")\n",
    "gt_evals = [evaluate_summary(doc, summ) for doc, summ in zip(docs_to_summarize, gt_sums)]\n",
    "print(\"Evaluating FLAN-T5 summaries...\")\n",
    "t5_evals = [evaluate_summary(doc, summ) for doc, summ in zip(docs_to_summarize, t5_sums)]\n",
    "print(\"Evaluating Mistral summaries...\")\n",
    "mistral_evals = [evaluate_summary(doc, summ) for doc, summ in zip(docs_to_summarize, mistral_sums)]\n",
    "print(\"Done\")"
   ]
  },
  {
   "cell_type": "markdown",
   "id": "108c1e95-ef63-499e-96d6-56d5287ef313",
   "metadata": {},
   "source": [
    "## Explore the results\n",
    "\n",
    "> ⚠️ **Note:** The results presented here, on a tiny dataset with no model tuning or prompt engineering, are for illustrative purposes only and do not represent a comprehensive evaluation of the models tested - even within summarization tasks specifically!\n",
    "\n",
    "After running the different models' outputs through the evaluator, we can aggregate the results to the dataset level by taking an average across documents - and use these average metrics to compare the performance between models:"
   ]
  },
  {
   "cell_type": "markdown",
   "id": "cd3eb96d-f3c4-49f4-a58a-948438c48329",
   "metadata": {},
   "source": [
    "We can run and aggregate these metrics across the whole sample dataset to compare the performance of the two candidate models:"
   ]
  },
  {
   "cell_type": "code",
   "execution_count": 18,
   "id": "0c09a6d4-692a-4754-a110-e4196de4cb0d",
   "metadata": {},
   "outputs": [
    {
     "name": "stdout",
     "output_type": "stream",
     "text": [
      "Average metric scores over sample dataset (n=5)\n"
     ]
    },
    {
     "data": {
      "text/html": [
       "<div>\n",
       "<style scoped>\n",
       "    .dataframe tbody tr th:only-of-type {\n",
       "        vertical-align: middle;\n",
       "    }\n",
       "\n",
       "    .dataframe tbody tr th {\n",
       "        vertical-align: top;\n",
       "    }\n",
       "\n",
       "    .dataframe thead th {\n",
       "        text-align: right;\n",
       "    }\n",
       "</style>\n",
       "<table border=\"1\" class=\"dataframe\">\n",
       "  <thead>\n",
       "    <tr style=\"text-align: right;\">\n",
       "      <th></th>\n",
       "      <th>accuracy</th>\n",
       "      <th>coherence</th>\n",
       "      <th>factuality</th>\n",
       "      <th>completeness</th>\n",
       "    </tr>\n",
       "  </thead>\n",
       "  <tbody>\n",
       "    <tr>\n",
       "      <th>Ground Truth</th>\n",
       "      <td>4.8</td>\n",
       "      <td>4.8</td>\n",
       "      <td>5.0</td>\n",
       "      <td>3.4</td>\n",
       "    </tr>\n",
       "    <tr>\n",
       "      <th>FLAN-T5</th>\n",
       "      <td>4.8</td>\n",
       "      <td>4.8</td>\n",
       "      <td>5.0</td>\n",
       "      <td>3.2</td>\n",
       "    </tr>\n",
       "    <tr>\n",
       "      <th>Mistral</th>\n",
       "      <td>5.0</td>\n",
       "      <td>5.0</td>\n",
       "      <td>5.0</td>\n",
       "      <td>4.0</td>\n",
       "    </tr>\n",
       "  </tbody>\n",
       "</table>\n",
       "</div>"
      ],
      "text/plain": [
       "              accuracy  coherence  factuality  completeness\n",
       "Ground Truth       4.8        4.8         5.0           3.4\n",
       "FLAN-T5            4.8        4.8         5.0           3.2\n",
       "Mistral            5.0        5.0         5.0           4.0"
      ]
     },
     "execution_count": 18,
     "metadata": {},
     "output_type": "execute_result"
    }
   ],
   "source": [
    "import pandas as pd  # For displaying and working with dataframes/tables\n",
    "\n",
    "\n",
    "def avg_metrics(metrics: List[Dict[str, float]]) -> Dict[str, float]:\n",
    "    \"\"\"Take the mean of a dataset of metrics dictionaries\"\"\"\n",
    "    if not len(metrics):\n",
    "        return {}\n",
    "    return {\n",
    "        k: sum(m[k] for m in metrics) / len(metrics)  # Average (mean) across all samples\n",
    "        for k in metrics[0].keys()  # Assume all eval results include the same metrics\n",
    "    }\n",
    "\n",
    "\n",
    "# Display the averages per model:\n",
    "df = pd.DataFrame(\n",
    "    [avg_metrics(gt_evals), avg_metrics(t5_evals), avg_metrics(mistral_evals)],\n",
    "    index=[\"Ground Truth\", \"FLAN-T5\", \"Mistral\"],\n",
    ")\n",
    "print(f\"Average metric scores over sample dataset (n={len(docs_to_summarize)})\")\n",
    "df"
   ]
  },
  {
   "cell_type": "markdown",
   "id": "ea004e7a-c19c-4411-a0dc-8ec502ae28bf",
   "metadata": {},
   "source": [
    "For a more nuanced insight to how **variable** each model's performance might be, we could visualize the full underlying dataset instead of summarizing by average only:"
   ]
  },
  {
   "cell_type": "code",
   "execution_count": 19,
   "id": "e173fd58-ea90-4ef0-9889-71e4c5e255d2",
   "metadata": {
    "tags": []
   },
   "outputs": [
    {
     "data": {
      "text/plain": [
       "<Axes: xlabel='metric', ylabel='value'>"
      ]
     },
     "execution_count": 19,
     "metadata": {},
     "output_type": "execute_result"
    },
    {
     "data": {
      "image/png": "[encoded data removed]",
      "text/plain": [
       "<Figure size 1400x600 with 1 Axes>"
      ]
     },
     "metadata": {},
     "output_type": "display_data"
    }
   ],
   "source": [
    "import seaborn as sns\n",
    "\n",
    "sns.set(rc={\"figure.figsize\": (14, 6)})  # Improve default chart display size\n",
    "\n",
    "all_evals = []\n",
    "for mdl, evals in {\"Ground Truth\": gt_evals, \"FLAN-T5\": t5_evals, \"Mistral\": mistral_evals}.items():\n",
    "    for e in evals:\n",
    "        for metric_name, metric_value in e.items():\n",
    "            # len(all_evals) = #models * #metrics * #documents\n",
    "            all_evals.append({\"metric\": metric_name, \"value\": metric_value, \"model\": mdl})\n",
    "\n",
    "sns.barplot(data=pd.DataFrame(all_evals), x=\"metric\", y=\"value\", hue=\"model\")"
   ]
  },
  {
   "cell_type": "markdown",
   "id": "ffcafc05-c050-4855-b73b-811536eb7e89",
   "metadata": {},
   "source": [
    "## Conclusions\n",
    "\n",
    "In our observed results as configured above, the Claude evaluator found that the **Mistral 7B** model performed marginally better on summarization accuracy than FLAN-T5, and significantly better on summarization completeness - with coherence and factuality already essentially perfect in both models.\n",
    "\n",
    "Interestingly, Claude reported that Mistral **out-performed the 'ground truth'** target summaries along the target metrics. This kind of evaluation does not intrinsically require a \"ground truth\", and sensible next steps here would be to manually review some candidate responses to check whether actual human sponsor users' preferences align better with the Mistral responses or the original reference summaries.\n",
    "\n",
    "What's ultimately important is that the chosen metric(s) for evaluation align well to real business outcomes. LLM-based evaluations allow us to scale out testing to a much broader range of candidate LLMs, prompt templates, and inference configurations than would otherwise be possible - while we can compare the results to manual testing on smaller datasets to build confidence that our scalable, automated metrics align well to the ultimate business objectives.\n",
    "\n",
    "A range of additional techniques could be considered to further improve alignment between automated metrics and human/business goals, such as:\n",
    "\n",
    "- Using a **panel of multiple** evaluator models instead of just one \"trusted\" model, and aggregating the results\n",
    "- **Prompt engineering** or even **fine-tuning** the evaluator model to align more closely with human/business feedback"
   ]
  },
  {
   "cell_type": "markdown",
   "id": "d954ba07-8d46-4303-9123-07399ebc574a",
   "metadata": {},
   "source": [
    "## Clean-up\n",
    "\n",
    "To avoid ongoing charges after you're done experimenting, don't forget to delete the two **SageMaker endpoints** you deployed for this notebook! You can do this from the [AWS Console for Amazon SageMaker](https://console.aws.amazon.com/sagemaker/home?#/endpoints), or the *Deployments > Endpoints* section of the SageMaker Studio UI."
   ]
  }
 ],
 "metadata": {
  "availableInstances": [
   {
    "_defaultOrder": 0,
    "_isFastLaunch": true,
    "category": "General purpose",
    "gpuNum": 0,
    "hideHardwareSpecs": false,
    "memoryGiB": 4,
    "name": "ml.t3.medium",
    "vcpuNum": 2
   },
   {
    "_defaultOrder": 1,
    "_isFastLaunch": false,
    "category": "General purpose",
    "gpuNum": 0,
    "hideHardwareSpecs": false,
    "memoryGiB": 8,
    "name": "ml.t3.large",
    "vcpuNum": 2
   },
   {
    "_defaultOrder": 2,
    "_isFastLaunch": false,
    "category": "General purpose",
    "gpuNum": 0,
    "hideHardwareSpecs": false,
    "memoryGiB": 16,
    "name": "ml.t3.xlarge",
    "vcpuNum": 4
   },
   {
    "_defaultOrder": 3,
    "_isFastLaunch": false,
    "category": "General purpose",
    "gpuNum": 0,
    "hideHardwareSpecs": false,
    "memoryGiB": 32,
    "name": "ml.t3.2xlarge",
    "vcpuNum": 8
   },
   {
    "_defaultOrder": 4,
    "_isFastLaunch": true,
    "category": "General purpose",
    "gpuNum": 0,
    "hideHardwareSpecs": false,
    "memoryGiB": 8,
    "name": "ml.m5.large",
    "vcpuNum": 2
   },
   {
    "_defaultOrder": 5,
    "_isFastLaunch": false,
    "category": "General purpose",
    "gpuNum": 0,
    "hideHardwareSpecs": false,
    "memoryGiB": 16,
    "name": "ml.m5.xlarge",
    "vcpuNum": 4
   },
   {
    "_defaultOrder": 6,
    "_isFastLaunch": false,
    "category": "General purpose",
    "gpuNum": 0,
    "hideHardwareSpecs": false,
    "memoryGiB": 32,
    "name": "ml.m5.2xlarge",
    "vcpuNum": 8
   },
   {
    "_defaultOrder": 7,
    "_isFastLaunch": false,
    "category": "General purpose",
    "gpuNum": 0,
    "hideHardwareSpecs": false,
    "memoryGiB": 64,
    "name": "ml.m5.4xlarge",
    "vcpuNum": 16
   },
   {
    "_defaultOrder": 8,
    "_isFastLaunch": false,
    "category": "General purpose",
    "gpuNum": 0,
    "hideHardwareSpecs": false,
    "memoryGiB": 128,
    "name": "ml.m5.8xlarge",
    "vcpuNum": 32
   },
   {
    "_defaultOrder": 9,
    "_isFastLaunch": false,
    "category": "General purpose",
    "gpuNum": 0,
    "hideHardwareSpecs": false,
    "memoryGiB": 192,
    "name": "ml.m5.12xlarge",
    "vcpuNum": 48
   },
   {
    "_defaultOrder": 10,
    "_isFastLaunch": false,
    "category": "General purpose",
    "gpuNum": 0,
    "hideHardwareSpecs": false,
    "memoryGiB": 256,
    "name": "ml.m5.16xlarge",
    "vcpuNum": 64
   },
   {
    "_defaultOrder": 11,
    "_isFastLaunch": false,
    "category": "General purpose",
    "gpuNum": 0,
    "hideHardwareSpecs": false,
    "memoryGiB": 384,
    "name": "ml.m5.24xlarge",
    "vcpuNum": 96
   },
   {
    "_defaultOrder": 12,
    "_isFastLaunch": false,
    "category": "General purpose",
    "gpuNum": 0,
    "hideHardwareSpecs": false,
    "memoryGiB": 8,
    "name": "ml.m5d.large",
    "vcpuNum": 2
   },
   {
    "_defaultOrder": 13,
    "_isFastLaunch": false,
    "category": "General purpose",
    "gpuNum": 0,
    "hideHardwareSpecs": false,
    "memoryGiB": 16,
    "name": "ml.m5d.xlarge",
    "vcpuNum": 4
   },
   {
    "_defaultOrder": 14,
    "_isFastLaunch": false,
    "category": "General purpose",
    "gpuNum": 0,
    "hideHardwareSpecs": false,
    "memoryGiB": 32,
    "name": "ml.m5d.2xlarge",
    "vcpuNum": 8
   },
   {
    "_defaultOrder": 15,
    "_isFastLaunch": false,
    "category": "General purpose",
    "gpuNum": 0,
    "hideHardwareSpecs": false,
    "memoryGiB": 64,
    "name": "ml.m5d.4xlarge",
    "vcpuNum": 16
   },
   {
    "_defaultOrder": 16,
    "_isFastLaunch": false,
    "category": "General purpose",
    "gpuNum": 0,
    "hideHardwareSpecs": false,
    "memoryGiB": 128,
    "name": "ml.m5d.8xlarge",
    "vcpuNum": 32
   },
   {
    "_defaultOrder": 17,
    "_isFastLaunch": false,
    "category": "General purpose",
    "gpuNum": 0,
    "hideHardwareSpecs": false,
    "memoryGiB": 192,
    "name": "ml.m5d.12xlarge",
    "vcpuNum": 48
   },
   {
    "_defaultOrder": 18,
    "_isFastLaunch": false,
    "category": "General purpose",
    "gpuNum": 0,
    "hideHardwareSpecs": false,
    "memoryGiB": 256,
    "name": "ml.m5d.16xlarge",
    "vcpuNum": 64
   },
   {
    "_defaultOrder": 19,
    "_isFastLaunch": false,
    "category": "General purpose",
    "gpuNum": 0,
    "hideHardwareSpecs": false,
    "memoryGiB": 384,
    "name": "ml.m5d.24xlarge",
    "vcpuNum": 96
   },
   {
    "_defaultOrder": 20,
    "_isFastLaunch": false,
    "category": "General purpose",
    "gpuNum": 0,
    "hideHardwareSpecs": true,
    "memoryGiB": 0,
    "name": "ml.geospatial.interactive",
    "supportedImageNames": [
     "sagemaker-geospatial-v1-0"
    ],
    "vcpuNum": 0
   },
   {
    "_defaultOrder": 21,
    "_isFastLaunch": true,
    "category": "Compute optimized",
    "gpuNum": 0,
    "hideHardwareSpecs": false,
    "memoryGiB": 4,
    "name": "ml.c5.large",
    "vcpuNum": 2
   },
   {
    "_defaultOrder": 22,
    "_isFastLaunch": false,
    "category": "Compute optimized",
    "gpuNum": 0,
    "hideHardwareSpecs": false,
    "memoryGiB": 8,
    "name": "ml.c5.xlarge",
    "vcpuNum": 4
   },
   {
    "_defaultOrder": 23,
    "_isFastLaunch": false,
    "category": "Compute optimized",
    "gpuNum": 0,
    "hideHardwareSpecs": false,
    "memoryGiB": 16,
    "name": "ml.c5.2xlarge",
    "vcpuNum": 8
   },
   {
    "_defaultOrder": 24,
    "_isFastLaunch": false,
    "category": "Compute optimized",
    "gpuNum": 0,
    "hideHardwareSpecs": false,
    "memoryGiB": 32,
    "name": "ml.c5.4xlarge",
    "vcpuNum": 16
   },
   {
    "_defaultOrder": 25,
    "_isFastLaunch": false,
    "category": "Compute optimized",
    "gpuNum": 0,
    "hideHardwareSpecs": false,
    "memoryGiB": 72,
    "name": "ml.c5.9xlarge",
    "vcpuNum": 36
   },
   {
    "_defaultOrder": 26,
    "_isFastLaunch": false,
    "category": "Compute optimized",
    "gpuNum": 0,
    "hideHardwareSpecs": false,
    "memoryGiB": 96,
    "name": "ml.c5.12xlarge",
    "vcpuNum": 48
   },
   {
    "_defaultOrder": 27,
    "_isFastLaunch": false,
    "category": "Compute optimized",
    "gpuNum": 0,
    "hideHardwareSpecs": false,
    "memoryGiB": 144,
    "name": "ml.c5.18xlarge",
    "vcpuNum": 72
   },
   {
    "_defaultOrder": 28,
    "_isFastLaunch": false,
    "category": "Compute optimized",
    "gpuNum": 0,
    "hideHardwareSpecs": false,
    "memoryGiB": 192,
    "name": "ml.c5.24xlarge",
    "vcpuNum": 96
   },
   {
    "_defaultOrder": 29,
    "_isFastLaunch": true,
    "category": "Accelerated computing",
    "gpuNum": 1,
    "hideHardwareSpecs": false,
    "memoryGiB": 16,
    "name": "ml.g4dn.xlarge",
    "vcpuNum": 4
   },
   {
    "_defaultOrder": 30,
    "_isFastLaunch": false,
    "category": "Accelerated computing",
    "gpuNum": 1,
    "hideHardwareSpecs": false,
    "memoryGiB": 32,
    "name": "ml.g4dn.2xlarge",
    "vcpuNum": 8
   },
   {
    "_defaultOrder": 31,
    "_isFastLaunch": false,
    "category": "Accelerated computing",
    "gpuNum": 1,
    "hideHardwareSpecs": false,
    "memoryGiB": 64,
    "name": "ml.g4dn.4xlarge",
    "vcpuNum": 16
   },
   {
    "_defaultOrder": 32,
    "_isFastLaunch": false,
    "category": "Accelerated computing",
    "gpuNum": 1,
    "hideHardwareSpecs": false,
    "memoryGiB": 128,
    "name": "ml.g4dn.8xlarge",
    "vcpuNum": 32
   },
   {
    "_defaultOrder": 33,
    "_isFastLaunch": false,
    "category": "Accelerated computing",
    "gpuNum": 4,
    "hideHardwareSpecs": false,
    "memoryGiB": 192,
    "name": "ml.g4dn.12xlarge",
    "vcpuNum": 48
   },
   {
    "_defaultOrder": 34,
    "_isFastLaunch": false,
    "category": "Accelerated computing",
    "gpuNum": 1,
    "hideHardwareSpecs": false,
    "memoryGiB": 256,
    "name": "ml.g4dn.16xlarge",
    "vcpuNum": 64
   },
   {
    "_defaultOrder": 35,
    "_isFastLaunch": false,
    "category": "Accelerated computing",
    "gpuNum": 1,
    "hideHardwareSpecs": false,
    "memoryGiB": 61,
    "name": "ml.p3.2xlarge",
    "vcpuNum": 8
   },
   {
    "_defaultOrder": 36,
    "_isFastLaunch": false,
    "category": "Accelerated computing",
    "gpuNum": 4,
    "hideHardwareSpecs": false,
    "memoryGiB": 244,
    "name": "ml.p3.8xlarge",
    "vcpuNum": 32
   },
   {
    "_defaultOrder": 37,
    "_isFastLaunch": false,
    "category": "Accelerated computing",
    "gpuNum": 8,
    "hideHardwareSpecs": false,
    "memoryGiB": 488,
    "name": "ml.p3.16xlarge",
    "vcpuNum": 64
   },
   {
    "_defaultOrder": 38,
    "_isFastLaunch": false,
    "category": "Accelerated computing",
    "gpuNum": 8,
    "hideHardwareSpecs": false,
    "memoryGiB": 768,
    "name": "ml.p3dn.24xlarge",
    "vcpuNum": 96
   },
   {
    "_defaultOrder": 39,
    "_isFastLaunch": false,
    "category": "Memory Optimized",
    "gpuNum": 0,
    "hideHardwareSpecs": false,
    "memoryGiB": 16,
    "name": "ml.r5.large",
    "vcpuNum": 2
   },
   {
    "_defaultOrder": 40,
    "_isFastLaunch": false,
    "category": "Memory Optimized",
    "gpuNum": 0,
    "hideHardwareSpecs": false,
    "memoryGiB": 32,
    "name": "ml.r5.xlarge",
    "vcpuNum": 4
   },
   {
    "_defaultOrder": 41,
    "_isFastLaunch": false,
    "category": "Memory Optimized",
    "gpuNum": 0,
    "hideHardwareSpecs": false,
    "memoryGiB": 64,
    "name": "ml.r5.2xlarge",
    "vcpuNum": 8
   },
   {
    "_defaultOrder": 42,
    "_isFastLaunch": false,
    "category": "Memory Optimized",
    "gpuNum": 0,
    "hideHardwareSpecs": false,
    "memoryGiB": 128,
    "name": "ml.r5.4xlarge",
    "vcpuNum": 16
   },
   {
    "_defaultOrder": 43,
    "_isFastLaunch": false,
    "category": "Memory Optimized",
    "gpuNum": 0,
    "hideHardwareSpecs": false,
    "memoryGiB": 256,
    "name": "ml.r5.8xlarge",
    "vcpuNum": 32
   },
   {
    "_defaultOrder": 44,
    "_isFastLaunch": false,
    "category": "Memory Optimized",
    "gpuNum": 0,
    "hideHardwareSpecs": false,
    "memoryGiB": 384,
    "name": "ml.r5.12xlarge",
    "vcpuNum": 48
   },
   {
    "_defaultOrder": 45,
    "_isFastLaunch": false,
    "category": "Memory Optimized",
    "gpuNum": 0,
    "hideHardwareSpecs": false,
    "memoryGiB": 512,
    "name": "ml.r5.16xlarge",
    "vcpuNum": 64
   },
   {
    "_defaultOrder": 46,
    "_isFastLaunch": false,
    "category": "Memory Optimized",
    "gpuNum": 0,
    "hideHardwareSpecs": false,
    "memoryGiB": 768,
    "name": "ml.r5.24xlarge",
    "vcpuNum": 96
   },
   {
    "_defaultOrder": 47,
    "_isFastLaunch": false,
    "category": "Accelerated computing",
    "gpuNum": 1,
    "hideHardwareSpecs": false,
    "memoryGiB": 16,
    "name": "ml.g5.xlarge",
    "vcpuNum": 4
   },
   {
    "_defaultOrder": 48,
    "_isFastLaunch": false,
    "category": "Accelerated computing",
    "gpuNum": 1,
    "hideHardwareSpecs": false,
    "memoryGiB": 32,
    "name": "ml.g5.2xlarge",
    "vcpuNum": 8
   },
   {
    "_defaultOrder": 49,
    "_isFastLaunch": false,
    "category": "Accelerated computing",
    "gpuNum": 1,
    "hideHardwareSpecs": false,
    "memoryGiB": 64,
    "name": "ml.g5.4xlarge",
    "vcpuNum": 16
   },
   {
    "_defaultOrder": 50,
    "_isFastLaunch": false,
    "category": "Accelerated computing",
    "gpuNum": 1,
    "hideHardwareSpecs": false,
    "memoryGiB": 128,
    "name": "ml.g5.8xlarge",
    "vcpuNum": 32
   },
   {
    "_defaultOrder": 51,
    "_isFastLaunch": false,
    "category": "Accelerated computing",
    "gpuNum": 1,
    "hideHardwareSpecs": false,
    "memoryGiB": 256,
    "name": "ml.g5.16xlarge",
    "vcpuNum": 64
   },
   {
    "_defaultOrder": 52,
    "_isFastLaunch": false,
    "category": "Accelerated computing",
    "gpuNum": 4,
    "hideHardwareSpecs": false,
    "memoryGiB": 192,
    "name": "ml.g5.12xlarge",
    "vcpuNum": 48
   },
   {
    "_defaultOrder": 53,
    "_isFastLaunch": false,
    "category": "Accelerated computing",
    "gpuNum": 4,
    "hideHardwareSpecs": false,
    "memoryGiB": 384,
    "name": "ml.g5.24xlarge",
    "vcpuNum": 96
   },
   {
    "_defaultOrder": 54,
    "_isFastLaunch": false,
    "category": "Accelerated computing",
    "gpuNum": 8,
    "hideHardwareSpecs": false,
    "memoryGiB": 768,
    "name": "ml.g5.48xlarge",
    "vcpuNum": 192
   },
   {
    "_defaultOrder": 55,
    "_isFastLaunch": false,
    "category": "Accelerated computing",
    "gpuNum": 8,
    "hideHardwareSpecs": false,
    "memoryGiB": 1152,
    "name": "ml.p4d.24xlarge",
    "vcpuNum": 96
   },
   {
    "_defaultOrder": 56,
    "_isFastLaunch": false,
    "category": "Accelerated computing",
    "gpuNum": 8,
    "hideHardwareSpecs": false,
    "memoryGiB": 1152,
    "name": "ml.p4de.24xlarge",
    "vcpuNum": 96
   }
  ],
  "instance_type": "ml.m5.large",
  "kernelspec": {
   "display_name": "Python 3 (ipykernel)",
   "language": "python",
   "name": "python3"
  },
  "language_info": {
   "codemirror_mode": {
    "name": "ipython",
    "version": 3
   },
   "file_extension": ".py",
   "mimetype": "text/x-python",
   "name": "python",
   "nbconvert_exporter": "python",
   "pygments_lexer": "ipython3",
   "version": "3.10.14"
  }
 },
 "nbformat": 4,
 "nbformat_minor": 5
}
